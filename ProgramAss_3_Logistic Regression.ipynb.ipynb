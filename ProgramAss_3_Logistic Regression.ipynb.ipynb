{
  "nbformat": 4,
  "nbformat_minor": 0,
  "metadata": {
    "colab": {
      "provenance": []
    },
    "kernelspec": {
      "name": "python3",
      "display_name": "Python 3"
    },
    "language_info": {
      "name": "python"
    }
  },
  "cells": [
    {
      "cell_type": "markdown",
      "source": [
        "### **PA 3**\n",
        "\n",
        "#### **Course:** ECE Elective 1 Emerging Technologies\n",
        "#### **Program:** BS ECE\n",
        "\n",
        "* *Al-Hajri, Sarah Bint Mubarak F.*\n",
        "* *Camonias, Elizhea C.*\n",
        "* *Orpilla, Sigmund Yona Marie A.*\n",
        "\n",
        "---\n",
        "\n",
        "---\n",
        "\n",
        "# **Programming Assignment 3: Logistic Regression**\n",
        "\n",
        "In this assignment, you will train a model using Logistic Regression. Go to https://archive.ics.uci.edu/ml/datasets/Breast+Cancer+Wisconsin+%28Diagnostic%29 and download the download the Wisconsin Breast Cancer dataset. The dataset contains 699 instances of breast tumors with the following attributes:\n",
        "\n",
        "1. Sample code number id number\n",
        "2. Clump Thickness 1 - 10\n",
        "3. Uniformity of Cell Size 1 – 10\n",
        "4. Uniformity of Cell Shape 1 - 10\n",
        "5. Marginal Adhesion 1 - 10\n",
        "6. Single Epithelial Cell Size 1 - 10\n",
        "7. Bare Nuclei 1 - 10\n",
        "8. Bland Chromatin 1 - 10\n",
        "9. Normal Nucleoli 1 - 10\n",
        "10. Mitoses 1 - 10\n",
        "11. Class: (2 for benign, 4 for malignant)\n",
        "\n",
        "From the raw data set, remove rows with missing values, remove the column “Sample code number” and replace the “Class” values into 0’s and 1’s (0 for benign, 1 for malignant). You may choose to do this in Python (Pandas) or manually in spreadsheet application. The goal is to make a classifier for the tumor status.\n",
        "\n",
        "---\n",
        "### **General Guidelines**\n",
        "1. Split the samples into 70% Training and 30% Testing at random.\n",
        "2. Use stratify=y in the test_train_split function. Build a pipeline using the Standard scaler and\n",
        "logistic regression.\n",
        "3. Use the default penalty settings of Logistic Regression.\n",
        "4. After fitting the data, what is the model’s training and testing accuracy? Which features are most\n",
        "important?\n",
        "5. Generate a confusion matrix, then calculate the other metrics: F1-score, Precision, Recall, and False\n",
        "alarm rate.\n",
        "6. Plot the ROC curve and report the AUC. For this item, make a result for both the training and\n",
        "testing data, separately.\n",
        "\n",
        "---\n",
        "####**Contents:**\n",
        "1. [Importing Libraries](https://colab.research.google.com/drive/1rXHtvqigESE1HcPx3EQcQyQErdw6uPVx#scrollTo=4hPMWi6brIom)\n",
        "2. [Fetching Dataset](https://colab.research.google.com/drive/1rXHtvqigESE1HcPx3EQcQyQErdw6uPVx#scrollTo=lpgspVj6rT5O)\n",
        "3. [Data Processing](https://colab.research.google.com/drive/1rXHtvqigESE1HcPx3EQcQyQErdw6uPVx#scrollTo=tdqX8ipQsKFF)\n",
        "4. [Selecting Features and Plotting Correlation](https://colab.research.google.com/drive/1rXHtvqigESE1HcPx3EQcQyQErdw6uPVx#scrollTo=hnneo38QsUFz)\n",
        "5. [Splitting the Dataset](https://colab.research.google.com/drive/1rXHtvqigESE1HcPx3EQcQyQErdw6uPVx#scrollTo=lUICk63Csadg)\n",
        "6. [Pipeline Building](https://colab.research.google.com/drive/1rXHtvqigESE1HcPx3EQcQyQErdw6uPVx#scrollTo=KpU9TBf2scKj)\n",
        "7. [Evaluating the Model with Metrics](https://colab.research.google.com/drive/1rXHtvqigESE1HcPx3EQcQyQErdw6uPVx#scrollTo=pDkpRj8CsqOD)\n",
        "8. [ROC Curve and AUCROC Curve and AUC](https://colab.research.google.com/drive/1rXHtvqigESE1HcPx3EQcQyQErdw6uPVx#scrollTo=feAiPTCctOBz)\n",
        "9. [Guide Questions](https://colab.research.google.com/drive/1rXHtvqigESE1HcPx3EQcQyQErdw6uPVx#scrollTo=GEP0oc6GXGlt&line=1&uniqifier=1)\n",
        "10. [Summary](https://colab.research.google.com/drive/1rXHtvqigESE1HcPx3EQcQyQErdw6uPVx#scrollTo=wf2vn0eesVmJ&line=5&uniqifier=1)\n",
        "11. [Key Insights](https://colab.research.google.com/drive/1rXHtvqigESE1HcPx3EQcQyQErdw6uPVx#scrollTo=nM80rA_asYDE&line=1&uniqifier=1)"
      ],
      "metadata": {
        "id": "Fss7LeVck3fn"
      }
    },
    {
      "cell_type": "markdown",
      "source": [
        "#**Importing Libraries**"
      ],
      "metadata": {
        "id": "4hPMWi6brIom"
      }
    },
    {
      "cell_type": "code",
      "execution_count": null,
      "metadata": {
        "colab": {
          "base_uri": "https://localhost:8080/"
        },
        "collapsed": true,
        "id": "hgcCJQHvI0ZG",
        "outputId": "33ca5e51-90f8-4f21-8d13-978fb7da5964"
      },
      "outputs": [
        {
          "output_type": "stream",
          "name": "stdout",
          "text": [
            "Collecting ucimlrepo\n",
            "  Downloading ucimlrepo-0.0.7-py3-none-any.whl.metadata (5.5 kB)\n",
            "Requirement already satisfied: pandas>=1.0.0 in /usr/local/lib/python3.11/dist-packages (from ucimlrepo) (2.2.2)\n",
            "Requirement already satisfied: certifi>=2020.12.5 in /usr/local/lib/python3.11/dist-packages (from ucimlrepo) (2024.12.14)\n",
            "Requirement already satisfied: numpy>=1.23.2 in /usr/local/lib/python3.11/dist-packages (from pandas>=1.0.0->ucimlrepo) (1.26.4)\n",
            "Requirement already satisfied: python-dateutil>=2.8.2 in /usr/local/lib/python3.11/dist-packages (from pandas>=1.0.0->ucimlrepo) (2.8.2)\n",
            "Requirement already satisfied: pytz>=2020.1 in /usr/local/lib/python3.11/dist-packages (from pandas>=1.0.0->ucimlrepo) (2024.2)\n",
            "Requirement already satisfied: tzdata>=2022.7 in /usr/local/lib/python3.11/dist-packages (from pandas>=1.0.0->ucimlrepo) (2024.2)\n",
            "Requirement already satisfied: six>=1.5 in /usr/local/lib/python3.11/dist-packages (from python-dateutil>=2.8.2->pandas>=1.0.0->ucimlrepo) (1.17.0)\n",
            "Downloading ucimlrepo-0.0.7-py3-none-any.whl (8.0 kB)\n",
            "Installing collected packages: ucimlrepo\n",
            "Successfully installed ucimlrepo-0.0.7\n"
          ]
        }
      ],
      "source": [
        "# Install the 'ucimlrepo' library to enable access to datasets\n",
        "# from the UCI Machine Learning Repository.\n",
        "!pip install ucimlrepo\n",
        "\n",
        "# Import the 'fetch_ucirepo' function from the 'ucimlrepo' library.\n",
        "# This function is used to fetch datasets directly from the repository.\n",
        "from ucimlrepo import fetch_ucirepo\n"
      ]
    },
    {
      "cell_type": "code",
      "source": [
        "# Importing essential libraries for data manipulation and analysis\n",
        "import pandas as pd  # Provides data structures like DataFrame for handling tabular data\n",
        "import numpy as np  # Adds support for numerical operations and handling arrays\n",
        "\n",
        "# Importing libraries for data visualization\n",
        "import seaborn as sns  # Used for creating informative and attractive statistical graphics\n",
        "import matplotlib.pyplot as plt  # Provides low-level functionality for creating visualizations\n",
        "\n",
        "# Importing tools for data splitting and modeling\n",
        "from sklearn.model_selection import train_test_split  # Splits the dataset into training and testing sets\n",
        "from sklearn.pipeline import Pipeline  # Simplifies the creation of machine learning pipelines\n",
        "\n",
        "# Importing preprocessing tools\n",
        "from sklearn.preprocessing import StandardScaler  # Scales data to have zero mean and unit variance\n",
        "\n",
        "# Importing a machine learning algorithm\n",
        "from sklearn.linear_model import LogisticRegression  # Logistic Regression for binary classification\n",
        "\n",
        "# Importing metrics for model evaluation\n",
        "from sklearn.metrics import classification_report  # Generates a detailed report on classification metrics\n",
        "from sklearn.metrics import confusion_matrix, ConfusionMatrixDisplay  # Evaluates model performance using a confusion matrix\n",
        "from sklearn.metrics import roc_curve  # Plots the Receiver Operating Characteristic (ROC) curve\n",
        "from sklearn.metrics import auc  # Calculates the Area Under the Curve (AUC) for ROC\n"
      ],
      "metadata": {
        "id": "7qhn5UZbTGh4"
      },
      "execution_count": null,
      "outputs": []
    },
    {
      "cell_type": "markdown",
      "source": [
        "# **Fetching Dataset**"
      ],
      "metadata": {
        "id": "lpgspVj6rT5O"
      }
    },
    {
      "cell_type": "code",
      "source": [
        "# Fetch the Breast Cancer Wisconsin Diagnostic dataset using the UCI ML Repository API.\n",
        "# The `id=17` parameter specifies the unique identifier for this dataset.\n",
        "breast_cancer_wisconsin_diagnostic = fetch_ucirepo(id=17)\n",
        "\n",
        "# Extract features and target variables from the dataset as pandas DataFrames.\n",
        "# `x` contains the feature data (independent variables).\n",
        "x = breast_cancer_wisconsin_diagnostic.data.features\n",
        "# `y` contains the target data (dependent variables or labels).\n",
        "y = breast_cancer_wisconsin_diagnostic.data.targets\n",
        "\n",
        "# Display metadata of the dataset.\n",
        "# Metadata includes information such as dataset name, description, number of instances, and attributes.\n",
        "print(breast_cancer_wisconsin_diagnostic.metadata)\n",
        "\n",
        "# Display detailed information about each variable in the dataset.\n",
        "# This includes variable names, types, and descriptions.\n",
        "print(breast_cancer_wisconsin_diagnostic.variables)\n"
      ],
      "metadata": {
        "colab": {
          "base_uri": "https://localhost:8080/"
        },
        "collapsed": true,
        "id": "puH0HI9WTM64",
        "outputId": "8c40d54d-a1df-4325-80f8-1e4c564e678d"
      },
      "execution_count": null,
      "outputs": [
        {
          "output_type": "stream",
          "name": "stdout",
          "text": [
            "{'uci_id': 17, 'name': 'Breast Cancer Wisconsin (Diagnostic)', 'repository_url': 'https://archive.ics.uci.edu/dataset/17/breast+cancer+wisconsin+diagnostic', 'data_url': 'https://archive.ics.uci.edu/static/public/17/data.csv', 'abstract': 'Diagnostic Wisconsin Breast Cancer Database.', 'area': 'Health and Medicine', 'tasks': ['Classification'], 'characteristics': ['Multivariate'], 'num_instances': 569, 'num_features': 30, 'feature_types': ['Real'], 'demographics': [], 'target_col': ['Diagnosis'], 'index_col': ['ID'], 'has_missing_values': 'no', 'missing_values_symbol': None, 'year_of_dataset_creation': 1993, 'last_updated': 'Fri Nov 03 2023', 'dataset_doi': '10.24432/C5DW2B', 'creators': ['William Wolberg', 'Olvi Mangasarian', 'Nick Street', 'W. Street'], 'intro_paper': {'ID': 230, 'type': 'NATIVE', 'title': 'Nuclear feature extraction for breast tumor diagnosis', 'authors': 'W. Street, W. Wolberg, O. Mangasarian', 'venue': 'Electronic imaging', 'year': 1993, 'journal': None, 'DOI': '10.1117/12.148698', 'URL': 'https://www.semanticscholar.org/paper/53f0fbb425bc14468eb3bf96b2e1d41ba8087f36', 'sha': None, 'corpus': None, 'arxiv': None, 'mag': None, 'acl': None, 'pmid': None, 'pmcid': None}, 'additional_info': {'summary': 'Features are computed from a digitized image of a fine needle aspirate (FNA) of a breast mass.  They describe characteristics of the cell nuclei present in the image. A few of the images can be found at http://www.cs.wisc.edu/~street/images/\\r\\n\\r\\nSeparating plane described above was obtained using Multisurface Method-Tree (MSM-T) [K. P. Bennett, \"Decision Tree Construction Via Linear Programming.\" Proceedings of the 4th Midwest Artificial Intelligence and Cognitive Science Society, pp. 97-101, 1992], a classification method which uses linear programming to construct a decision tree.  Relevant features were selected using an exhaustive search in the space of 1-4 features and 1-3 separating planes.\\r\\n\\r\\nThe actual linear program used to obtain the separating plane in the 3-dimensional space is that described in: [K. P. Bennett and O. L. Mangasarian: \"Robust Linear Programming Discrimination of Two Linearly Inseparable Sets\", Optimization Methods and Software 1, 1992, 23-34].\\r\\n\\r\\nThis database is also available through the UW CS ftp server:\\r\\nftp ftp.cs.wisc.edu\\r\\ncd math-prog/cpo-dataset/machine-learn/WDBC/', 'purpose': None, 'funded_by': None, 'instances_represent': None, 'recommended_data_splits': None, 'sensitive_data': None, 'preprocessing_description': None, 'variable_info': '1) ID number\\r\\n2) Diagnosis (M = malignant, B = benign)\\r\\n3-32)\\r\\n\\r\\nTen real-valued features are computed for each cell nucleus:\\r\\n\\r\\n\\ta) radius (mean of distances from center to points on the perimeter)\\r\\n\\tb) texture (standard deviation of gray-scale values)\\r\\n\\tc) perimeter\\r\\n\\td) area\\r\\n\\te) smoothness (local variation in radius lengths)\\r\\n\\tf) compactness (perimeter^2 / area - 1.0)\\r\\n\\tg) concavity (severity of concave portions of the contour)\\r\\n\\th) concave points (number of concave portions of the contour)\\r\\n\\ti) symmetry \\r\\n\\tj) fractal dimension (\"coastline approximation\" - 1)', 'citation': None}}\n",
            "                  name     role         type demographic description units  \\\n",
            "0                   ID       ID  Categorical        None        None  None   \n",
            "1            Diagnosis   Target  Categorical        None        None  None   \n",
            "2              radius1  Feature   Continuous        None        None  None   \n",
            "3             texture1  Feature   Continuous        None        None  None   \n",
            "4           perimeter1  Feature   Continuous        None        None  None   \n",
            "5                area1  Feature   Continuous        None        None  None   \n",
            "6          smoothness1  Feature   Continuous        None        None  None   \n",
            "7         compactness1  Feature   Continuous        None        None  None   \n",
            "8           concavity1  Feature   Continuous        None        None  None   \n",
            "9      concave_points1  Feature   Continuous        None        None  None   \n",
            "10           symmetry1  Feature   Continuous        None        None  None   \n",
            "11  fractal_dimension1  Feature   Continuous        None        None  None   \n",
            "12             radius2  Feature   Continuous        None        None  None   \n",
            "13            texture2  Feature   Continuous        None        None  None   \n",
            "14          perimeter2  Feature   Continuous        None        None  None   \n",
            "15               area2  Feature   Continuous        None        None  None   \n",
            "16         smoothness2  Feature   Continuous        None        None  None   \n",
            "17        compactness2  Feature   Continuous        None        None  None   \n",
            "18          concavity2  Feature   Continuous        None        None  None   \n",
            "19     concave_points2  Feature   Continuous        None        None  None   \n",
            "20           symmetry2  Feature   Continuous        None        None  None   \n",
            "21  fractal_dimension2  Feature   Continuous        None        None  None   \n",
            "22             radius3  Feature   Continuous        None        None  None   \n",
            "23            texture3  Feature   Continuous        None        None  None   \n",
            "24          perimeter3  Feature   Continuous        None        None  None   \n",
            "25               area3  Feature   Continuous        None        None  None   \n",
            "26         smoothness3  Feature   Continuous        None        None  None   \n",
            "27        compactness3  Feature   Continuous        None        None  None   \n",
            "28          concavity3  Feature   Continuous        None        None  None   \n",
            "29     concave_points3  Feature   Continuous        None        None  None   \n",
            "30           symmetry3  Feature   Continuous        None        None  None   \n",
            "31  fractal_dimension3  Feature   Continuous        None        None  None   \n",
            "\n",
            "   missing_values  \n",
            "0              no  \n",
            "1              no  \n",
            "2              no  \n",
            "3              no  \n",
            "4              no  \n",
            "5              no  \n",
            "6              no  \n",
            "7              no  \n",
            "8              no  \n",
            "9              no  \n",
            "10             no  \n",
            "11             no  \n",
            "12             no  \n",
            "13             no  \n",
            "14             no  \n",
            "15             no  \n",
            "16             no  \n",
            "17             no  \n",
            "18             no  \n",
            "19             no  \n",
            "20             no  \n",
            "21             no  \n",
            "22             no  \n",
            "23             no  \n",
            "24             no  \n",
            "25             no  \n",
            "26             no  \n",
            "27             no  \n",
            "28             no  \n",
            "29             no  \n",
            "30             no  \n",
            "31             no  \n"
          ]
        }
      ]
    },
    {
      "cell_type": "markdown",
      "source": [
        "# **Data Preprocessing**"
      ],
      "metadata": {
        "id": "tdqX8ipQsKFF"
      }
    },
    {
      "cell_type": "code",
      "source": [
        "# Convert the target variable 'Diagnosis' from categorical labels ('M' and 'B') to binary values (1 and 0).\n",
        "# 'M' (Malignant) is mapped to 1, and 'B' (Benign) is mapped to 0 for easier processing in machine learning models.\n",
        "y['Diagnosis'] = y['Diagnosis'].replace({'M': 1, 'B': 0}).astype(int)\n",
        "\n",
        "# Display the first five rows of the updated target variable to verify the conversion.\n",
        "print(y.head())\n"
      ],
      "metadata": {
        "colab": {
          "base_uri": "https://localhost:8080/"
        },
        "id": "4pkQR4HOTRP_",
        "outputId": "0329bcbd-0752-4aba-8a14-5ee838fb49bb"
      },
      "execution_count": null,
      "outputs": [
        {
          "output_type": "stream",
          "name": "stdout",
          "text": [
            "   Diagnosis\n",
            "0          1\n",
            "1          1\n",
            "2          1\n",
            "3          1\n",
            "4          1\n"
          ]
        },
        {
          "output_type": "stream",
          "name": "stderr",
          "text": [
            "<ipython-input-5-03a71e1612f0>:3: FutureWarning: Downcasting behavior in `replace` is deprecated and will be removed in a future version. To retain the old behavior, explicitly call `result.infer_objects(copy=False)`. To opt-in to the future behavior, set `pd.set_option('future.no_silent_downcasting', True)`\n",
            "  y['Diagnosis'] = y['Diagnosis'].replace({'M': 1, 'B': 0}).astype(int)\n",
            "<ipython-input-5-03a71e1612f0>:3: SettingWithCopyWarning: \n",
            "A value is trying to be set on a copy of a slice from a DataFrame.\n",
            "Try using .loc[row_indexer,col_indexer] = value instead\n",
            "\n",
            "See the caveats in the documentation: https://pandas.pydata.org/pandas-docs/stable/user_guide/indexing.html#returning-a-view-versus-a-copy\n",
            "  y['Diagnosis'] = y['Diagnosis'].replace({'M': 1, 'B': 0}).astype(int)\n"
          ]
        }
      ]
    },
    {
      "cell_type": "markdown",
      "source": [
        "# **Selecting Features and Plotting Correlation**\n",
        "\n"
      ],
      "metadata": {
        "id": "hnneo38QsUFz"
      }
    },
    {
      "cell_type": "code",
      "source": [
        "# Select specific feature columns for correlation analysis.\n",
        "# These columns represent various measurements or characteristics of the dataset.\n",
        "x = x[['radius1', 'texture1', 'smoothness1', 'compactness1', 'symmetry1', 'fractal_dimension1']]\n",
        "\n",
        "# Define a function to plot a correlation heatmap for the given dataset.\n",
        "def plot_correlation_heatmap(data):\n",
        "    # Set the figure size for better visualization.\n",
        "    plt.figure(figsize=(6, 6))\n",
        "\n",
        "    # Create a heatmap using seaborn to display the correlation matrix.\n",
        "    sns.heatmap(\n",
        "        data.corr().round(2),        # Compute pairwise correlation of columns in the dataset and round to 2 decimals.\n",
        "        cmap='coolwarm',            # Use a diverging colormap ('coolwarm') to highlight positive and negative correlations.\n",
        "        vmin=-1, vmax=1, center=0,  # Set the range of the color scale from -1 to 1, centered at 0.\n",
        "        square=True,                # Make the heatmap cells square.\n",
        "        linewidths=.5,              # Add light grid lines between cells.\n",
        "        cbar_kws={\"shrink\": .5},    # Shrink the color bar for better fit.\n",
        "        annot=True,                 # Display correlation coefficients on the heatmap.\n",
        "        fmt=\".2f\",                  # Format the annotations to 2 decimal places.\n",
        "        annot_kws={\"fontsize\": 7}   # Set the font size of the annotations.\n",
        "    )\n",
        "\n",
        "    # Add a title to the heatmap.\n",
        "    plt.title('Correlation Heatmap')\n",
        "\n",
        "    # Automatically adjust the layout to prevent overlapping elements.\n",
        "    plt.tight_layout()\n",
        "\n",
        "    # Display the heatmap.\n",
        "    plt.show()\n",
        "\n",
        "# Call the function to plot the correlation heatmap for the selected features in 'x'.\n",
        "plot_correlation_heatmap(x)\n"
      ],
      "metadata": {
        "colab": {
          "base_uri": "https://localhost:8080/",
          "height": 543
        },
        "id": "1ChmtZm8TvY-",
        "outputId": "49569f59-9fa0-4972-e51b-1e5877ee7ef5"
      },
      "execution_count": null,
      "outputs": [
        {
          "output_type": "display_data",
          "data": {
            "text/plain": [
              "<Figure size 600x600 with 2 Axes>"
            ],
            "image/png": "[encoded data removed]"
          },
          "metadata": {}
        }
      ]
    },
    {
      "cell_type": "markdown",
      "source": [
        "# **Splitting the Dataset**"
      ],
      "metadata": {
        "id": "lUICk63Csadg"
      }
    },
    {
      "cell_type": "code",
      "source": [
        "# Split the dataset into training and testing sets.\n",
        "# Parameters:\n",
        "# - `x`: Features dataset (independent variables).\n",
        "# - `y`: Target dataset (dependent variables or labels).\n",
        "# - `stratify=y`: Ensures the split maintains the same proportion of each class in the training and testing sets.\n",
        "# - `test_size=0.3`: Reserves 30% of the data for testing, while 70% is used for training.\n",
        "# - `random_state=7`: Sets a fixed seed for reproducibility of results.\n",
        "\n",
        "x_train, x_test, y_train, y_test = train_test_split(x, y, stratify=y, test_size=0.3, random_state=7)\n"
      ],
      "metadata": {
        "id": "TAZCzYgCUzHN"
      },
      "execution_count": null,
      "outputs": []
    },
    {
      "cell_type": "markdown",
      "source": [
        "# **Pipeline Building**"
      ],
      "metadata": {
        "id": "KpU9TBf2scKj"
      }
    },
    {
      "cell_type": "code",
      "source": [
        "# Create a pipeline combining data standardization (scaling) and logistic regression modeling.\n",
        "# Steps in the pipeline:\n",
        "# 1. 'scaler': StandardScaler - Scales features to have zero mean and unit variance for improved model performance.\n",
        "# 2. 'model': LogisticRegression - Implements logistic regression for binary classification.\n",
        "model = Pipeline([\n",
        "    ('scaler', StandardScaler()),\n",
        "    ('model', LogisticRegression())\n",
        "])\n",
        "\n",
        "# Train (fit) the pipeline on the training data.\n",
        "# The StandardScaler scales the training data before passing it to the LogisticRegression model.\n",
        "model.fit(x_train, y_train)\n",
        "\n",
        "# Use the trained model to make predictions on the test data.\n",
        "# The test data is scaled using the same scaler before making predictions.\n",
        "y_pred = model.predict(x_test)\n",
        "\n",
        "# Calculate and store the model's accuracy on the training set.\n",
        "train_accuracy = model.score(x_train, y_train)\n",
        "\n",
        "# Calculate and store the model's accuracy on the test set.\n",
        "test_accuracy = model.score(x_test, y_test)\n",
        "\n",
        "# Print the training accuracy, rounded to 2 decimal places.\n",
        "print(f\"Training Accuracy: {round(train_accuracy, 2)}\")\n",
        "\n",
        "# Print the testing accuracy, rounded to 2 decimal places.\n",
        "print(f\"Testing Accuracy: {round(test_accuracy, 2)}\")\n",
        "\n",
        "# Display a detailed classification report for the test set predictions.\n",
        "# The report includes precision, recall, F1-score, and support for each class.\n",
        "print(\"\\nClassification Report:\")\n",
        "print(classification_report(y_test, y_pred))\n"
      ],
      "metadata": {
        "colab": {
          "base_uri": "https://localhost:8080/"
        },
        "id": "o4iyxoHNVjSG",
        "outputId": "ee40566c-f85b-4104-98ea-79d456a0dedd"
      },
      "execution_count": null,
      "outputs": [
        {
          "output_type": "stream",
          "name": "stderr",
          "text": [
            "/usr/local/lib/python3.11/dist-packages/sklearn/utils/validation.py:1408: DataConversionWarning: A column-vector y was passed when a 1d array was expected. Please change the shape of y to (n_samples, ), for example using ravel().\n",
            "  y = column_or_1d(y, warn=True)\n"
          ]
        },
        {
          "output_type": "stream",
          "name": "stdout",
          "text": [
            "Training Accuracy: 0.94\n",
            "Testing Accuracy: 0.92\n",
            "\n",
            "Classification Report:\n",
            "              precision    recall  f1-score   support\n",
            "\n",
            "           0       0.91      0.96      0.94       107\n",
            "           1       0.93      0.84      0.89        64\n",
            "\n",
            "    accuracy                           0.92       171\n",
            "   macro avg       0.92      0.90      0.91       171\n",
            "weighted avg       0.92      0.92      0.92       171\n",
            "\n"
          ]
        }
      ]
    },
    {
      "cell_type": "markdown",
      "source": [
        "# **Evaluating the Model with Metrics**"
      ],
      "metadata": {
        "id": "pDkpRj8CsqOD"
      }
    },
    {
      "cell_type": "markdown",
      "source": [
        "###*a. Confusion Matrix and False Alarm Rate*"
      ],
      "metadata": {
        "id": "SB3IAVQkswaG"
      }
    },
    {
      "cell_type": "code",
      "source": [
        "# Calculate the confusion matrix by comparing the true labels (y_test) with the predicted labels (y_pred).\n",
        "# The confusion matrix provides insights into the model's performance by showing:\n",
        "# - True Positives (tp): Correctly predicted positive cases.\n",
        "# - False Positives (fp): Incorrectly predicted as positive.\n",
        "# - False Negatives (fn): Incorrectly predicted as negative.\n",
        "# - True Negatives (tn): Correctly predicted negative cases.\n",
        "cm = confusion_matrix(y_test, y_pred)\n",
        "\n",
        "# Extract the individual elements (True Negatives, False Positives, False Negatives, True Positives) from the confusion matrix.\n",
        "tn, fp, fn, tp = cm.ravel()\n",
        "\n",
        "# Calculate the False Alarm Rate (False Positive Rate).\n",
        "# This measures the proportion of actual negative cases incorrectly predicted as positive.\n",
        "# Formula: False Alarm Rate = False Positives / (False Positives + True Negatives)\n",
        "false_alarm_rate = fp / (fp + tn) if (fp + tn) > 0 else 0  # Avoid division by zero if there are no True Negatives or False Positives.\n",
        "\n",
        "# Print the calculated False Alarm Rate, rounded to 2 decimal places.\n",
        "print(f\"False Alarm Rate: {round(false_alarm_rate, 2)}\")\n"
      ],
      "metadata": {
        "colab": {
          "base_uri": "https://localhost:8080/"
        },
        "id": "0ohucMcNVtV1",
        "outputId": "cf5e5e3d-4af3-4045-ca65-42420a97c78b"
      },
      "execution_count": null,
      "outputs": [
        {
          "output_type": "stream",
          "name": "stdout",
          "text": [
            "False Alarm Rate: 0.04\n"
          ]
        }
      ]
    },
    {
      "cell_type": "markdown",
      "source": [
        "###*b. Coefficients*"
      ],
      "metadata": {
        "id": "1o7y164EtART"
      }
    },
    {
      "cell_type": "code",
      "source": [
        "# Retrieve the coefficients from the logistic regression model.\n",
        "# model.named_steps.model.coef_ contains the coefficients for each feature in the logistic regression model.\n",
        "# The [0] index selects the coefficients from the 2D array (since it’s a binary classification).\n",
        "# x.keys() provides the feature names for use as row indices in the DataFrame.\n",
        "coef_df = pd.DataFrame(model.named_steps.model.coef_[0], index=x.keys(), columns=['Coefficient'])\n",
        "\n",
        "# Round the coefficients to 2 decimal places for easier interpretation.\n",
        "coef_df['Rounded'] = coef_df['Coefficient'].round(2)\n",
        "\n",
        "# Print the coefficient values for each feature.\n",
        "print(\"\\nCoefficient Values:\")\n",
        "print(coef_df)\n",
        "\n",
        "# Retrieve and print the intercept value of the logistic regression model.\n",
        "# The intercept represents the model's bias term, which is learned during training.\n",
        "print(f\"Intercept: {model.named_steps.model.intercept_[0]:.2f}\")\n"
      ],
      "metadata": {
        "colab": {
          "base_uri": "https://localhost:8080/"
        },
        "id": "TdFMsnkMV4r1",
        "outputId": "f45d15c5-fff0-4b3b-d3b3-652344165ef1"
      },
      "execution_count": null,
      "outputs": [
        {
          "output_type": "stream",
          "name": "stdout",
          "text": [
            "\n",
            "Coefficient Values:\n",
            "                    Coefficient  Rounded\n",
            "radius1                3.277395     3.28\n",
            "texture1               1.195844     1.20\n",
            "smoothness1            1.046129     1.05\n",
            "compactness1           0.992227     0.99\n",
            "symmetry1              0.498028     0.50\n",
            "fractal_dimension1    -0.489562    -0.49\n",
            "Intercept: -0.96\n"
          ]
        }
      ]
    },
    {
      "cell_type": "markdown",
      "source": [
        "### *c. Confusion Matrix*"
      ],
      "metadata": {
        "id": "ka3GH_C5tHkV"
      }
    },
    {
      "cell_type": "code",
      "source": [
        "# Display the confusion matrix using ConfusionMatrixDisplay.\n",
        "# cm: The confusion matrix containing counts of True Negatives, False Positives, False Negatives, and True Positives.\n",
        "# display_labels: A list containing the class names (in this case, \"Benign\" and \"Malignant\") for labeling the axes of the confusion matrix.\n",
        "ConfusionMatrixDisplay(confusion_matrix=cm, display_labels=[\"Benign\", \"Malignant\"]).plot()\n",
        "\n",
        "# Add a title to the confusion matrix plot for better context.\n",
        "plt.title('Confusion Matrix')\n",
        "\n",
        "# Show the plot with the confusion matrix and the added title.\n",
        "plt.show()\n"
      ],
      "metadata": {
        "colab": {
          "base_uri": "https://localhost:8080/",
          "height": 472
        },
        "id": "74P2uEONWB7l",
        "outputId": "9994d648-9a17-4750-a06d-e4d5f14dbe5e"
      },
      "execution_count": null,
      "outputs": [
        {
          "output_type": "display_data",
          "data": {
            "text/plain": [
              "<Figure size 640x480 with 2 Axes>"
            ],
            "image/png": "[encoded data removed]"
          },
          "metadata": {}
        }
      ]
    },
    {
      "cell_type": "markdown",
      "source": [
        "#**ROC Curve and AUC**"
      ],
      "metadata": {
        "id": "feAiPTCctOBz"
      }
    },
    {
      "cell_type": "code",
      "source": [
        "# Compute the ROC curve and AUC for the training set.\n",
        "# model.predict_proba(x_train) returns the predicted probabilities for each class.\n",
        "# [:, 1] selects the probabilities for the positive class (Malignant).\n",
        "y_train_proba = model.predict_proba(x_train)[:, 1]\n",
        "\n",
        "# fpr_train: False Positive Rate\n",
        "# tpr_train: True Positive Rate\n",
        "# _ (underscore) is used to ignore the threshold values returned by roc_curve.\n",
        "fpr_train, tpr_train, _ = roc_curve(y_train, y_train_proba)\n",
        "\n",
        "# Calculate the AUC (Area Under the Curve) for the training set ROC curve.\n",
        "roc_auc_train = auc(fpr_train, tpr_train)\n",
        "\n",
        "# Compute the ROC curve and AUC for the testing set (similar to the training set).\n",
        "y_test_proba = model.predict_proba(x_test)[:, 1]  # Get probabilities for the positive class\n",
        "fpr_test, tpr_test, _ = roc_curve(y_test, y_test_proba)  # Calculate False Positive Rate and True Positive Rate\n",
        "roc_auc_test = auc(fpr_test, tpr_test)  # Calculate AUC for the testing set\n",
        "\n",
        "# Plot the ROC curves for both the training and testing sets.\n",
        "plt.figure(figsize=(5, 5))\n",
        "# Plot the training ROC curve with blue color.\n",
        "plt.plot(fpr_train, tpr_train, color='blue', label=f'Train ROC curve (AUC = {roc_auc_train:.2f})')\n",
        "# Plot the testing ROC curve with red color.\n",
        "plt.plot(fpr_test, tpr_test, color='red', label=f'Test ROC curve (AUC = {roc_auc_test:.2f})')\n",
        "# Add a diagonal dashed line representing random classification (AUC = 0.5).\n",
        "plt.plot([0, 1], [0, 1], color='gray', linestyle='--')\n",
        "\n",
        "# Set the limits for the x and y axes.\n",
        "plt.xlim([0.0, 1.0])\n",
        "plt.ylim([0.0, 1.05])\n",
        "\n",
        "# Label the axes and title the plot.\n",
        "plt.xlabel('False Positive Rate')\n",
        "plt.ylabel('True Positive Rate')\n",
        "plt.title('Receiver Operating Characteristic (ROC) Curve')\n",
        "\n",
        "# Add a legend in the lower right corner.\n",
        "plt.legend(loc='lower right')\n",
        "\n",
        "# Display gridlines on the plot.\n",
        "plt.grid()\n",
        "\n",
        "# Show the ROC curve plot.\n",
        "plt.show()\n"
      ],
      "metadata": {
        "colab": {
          "base_uri": "https://localhost:8080/",
          "height": 487
        },
        "id": "ZAoBwc9GWJJ9",
        "outputId": "b070cefd-a8d3-404d-e5ec-555d3e642123"
      },
      "execution_count": null,
      "outputs": [
        {
          "output_type": "display_data",
          "data": {
            "text/plain": [
              "<Figure size 500x500 with 1 Axes>"
            ],
            "image/png": "[encoded data removed]"
          },
          "metadata": {}
        }
      ]
    },
    {
      "cell_type": "markdown",
      "source": [
        "#**Guide Questions**\n",
        "\n",
        "\n",
        "#### 1. What steps are required to remove the \"Sample code number\" column?\n",
        "\n",
        "\n",
        "*  To remove the \"Sample code number\" column from a dataset in a Jupyter notebook, you can use the Pandas `drop()` function. For example, `df.drop('Sample code number', axis=1, inplace=True)` will permanently remove the column from the dataframe. The exact process may vary if you're working with a different tool or environment, but the general approach remains similar.\n",
        "\n",
        "####2. How can the \"Class\" values be converted into binary (0 and 1) form in Python?\n",
        "\n",
        "\n",
        "*   The \"Class\" values can be converted into binary (0 and 1) form in Python by applying a mathematical transformation or mapping function. For instance, if the dataset assigns values such as 2 for \"benign\" and 4 for \"malignant,\" the binary conversion can be achieved by dividing each value in the \"Class\" column by 2 and subtracting 1, as in `Class = Class / 2 - 1`. Alternatively, the conversion can be done using a mapping function like `Class.map({2: 0, 4: 1})` or conditional logic such as `Class.apply(lambda x: 1 if x == 4 else 0)`. These methods ensure the \"Class\" values are appropriately transformed into a binary representation.\n",
        "\n",
        "\n",
        "\n",
        "####3. What is the importance of splitting the dataset into training and testing sets?\n",
        "\n",
        "*  Splitting the dataset into training and testing sets ensures reliable model evaluation by testing its performance on unseen data. It prevents overfitting, ensures unbiased performance metrics, and facilitates hyperparameter tuning. Common split ratios like 70-30 or 80-20 help achieve generalization and robust model development.\n",
        "\n",
        "\n",
        "\n",
        "####4. Why is it necessary to use the stratify parameter in the train_test_split function?\n",
        "\n",
        "*   The `stratify` parameter in `train_test_split` ensures the class distribution in training and testing sets matches the original dataset, preventing biased splits and maintaining reliable model evaluation, especially for imbalanced datasets.\n",
        "\n",
        "\n",
        "\n",
        "####5. What is logistic regression, and why is it suitable for this dataset?\n",
        "\n",
        "*   Logistic regression is a supervised learning algorithm used for binary classification, predicting probabilities for class membership using a sigmoid function. It is suitable for this dataset as it handles binary outcomes like \"benign\" and \"malignant,\" provides interpretable coefficients, is computationally efficient, and works well with linearly separable data.\n",
        "\n",
        "####6. How can the training and testing accuracy of the logistic regression model be calculated?\n",
        "  \n",
        "\n",
        "*   The training and testing accuracy can be calculated using the score method of the Logistic Regression model in Python. This method computes the mean accuracy of the model based on the given input features and labels. After splitting the dataset into training and testing sets and fitting the logistic regression model, you can calculate the accuracy as follows:\n",
        "\n",
        "\n",
        "* Training Accuracy: Use the training data to calculate accuracy:\n",
        "```\n",
        "model.score(X_train, y_train)\n",
        "```\n",
        "\n",
        "* Testing Accuracy: Use the testing data to calculate accuracy:\n",
        "```\n",
        "model.score(X_test, y_test)\n",
        "```\n",
        "\n",
        "####7. Which features in the dataset are most influential in determining the tumor status, and how can their importance be assessed?\n",
        "\n",
        "*   The most influential features in determining tumor status are ***radius1, texture1, smoothness1, compactness1, symmetry1,*** and ***fractal_dimension1***, as indicated by their coefficients in the logistic regression model.\n",
        "\n",
        "* Radius1 has the highest positive coefficient, making it the most important feature for predicting malignancy.\n",
        "* Positive coefficients for texture1, smoothness1, and compactness1 suggest they also increase the likelihood of a tumor being malignant.\n",
        "Fractal_dimension1 has a negative coefficient, implying it reduces the likelihood of malignancy.\n",
        "\n",
        "  *Feature importance is assessed by examining the magnitude of the coefficients, with larger values indicating stronger influence on the model's predictions.*\n",
        "\n",
        "####8. How is a confusion matrix generated, and what does it represent?\n",
        "\n",
        "* A confusion matrix is generated by comparing the predicted and actual labels of the dataset. It provides a summary of prediction results, showing the counts of:\n",
        "\n",
        "  * **True Positives (TP)**: Correctly predicted malignant cases.\n",
        "  * **True Negatives (TN)**: Correctly predicted benign cases.\n",
        "  * **False Positives (FP)**: Benign cases predicted as malignant.\n",
        "  * **False Negatives (FN)**: Malignant cases predicted as benign.\n",
        "\n",
        "* As shown in the code, a confusion matrix can be generated by:\n",
        "\n",
        "  ```\n",
        "  ConfusionMatrixDisplay(confusion_matrix=cm, display_labels=[\"Benign\", \"Malignant\"]).plot()\n",
        "  plt.title('Confusion Matrix')\n",
        "  plt.show()\n",
        "  ```\n",
        "\n",
        "####9. How are precision, recall, F1-score, and false alarm rate calculated from the confusion matrix?\n",
        "\n",
        "* These metrics are calculated as follows:\n",
        "\n",
        "  * **Precision**   = $\\frac{TP}{TP+FP}$\n",
        "\n",
        "    Measures how many predicted malignant cases are actually malignant.\n",
        "\n",
        "  * **Recall (Sensitivity)** = $\\frac{TP}{TP+FN}$\n",
        "\n",
        "    Measures how many actual malignant cases are correctly identified.\n",
        "  * **F1-score** = $2* \\frac{Precision * Recall}{Precision + Recall}$\n",
        "  Harmonic mean of precision and recall, balancing both.\n",
        "\n",
        "  * **False Alarm Rate (FAR)** = $\\frac{FP}{FP+TN}$\n",
        "\n",
        "    Measures the proportion of benign cases incorrectly classified as malignant.\n",
        "\n",
        "* These metrics can be calculated in Python using classification_report from sklearn.metrics or manually from the confusion matrix\n",
        "```\n",
        "print(\"\\nClassification Report:\")\n",
        "print(classification_report(y_test, y_pred))\n",
        "```\n",
        "\n",
        "####10. Why are these metrics important for evaluating the performance of a classifier?\n",
        "* These metrics are crucial for evaluating the performance of a classifier because:\n",
        "\n",
        "  * **Precision** helps measure the model's accuracy when it predicts a positive (malignant) case.\n",
        "  * **Recall** evaluates the model's ability to detect actual positives, important for minimizing false negatives in critical applications like medical diagnoses.\n",
        "  * **F1-score** balances precision and recall, especially useful in imbalanced datasets.\n",
        "  * **False Alarm Rate** indicates how often the model raises false alarms (FP), which could lead to unnecessary interventions or stress.\n",
        "\n",
        "#### 11. What is an ROC curve, and how is it plotted for a logistic regression model?\n",
        "\n",
        "- **ROC Curve (Receiver Operating Characteristic Curve):** This is a graphical representation used to evaluate the performance of a binary classification model. It plots the True Positive Rate (Recall) against the False Positive Rate at different classification thresholds.\n",
        "- As the decision threshold is adjusted, the ROC curve illustrates the trade-off between false positives and true positives.\n",
        "- **Key components of the ROC curve:**\n",
        "  - **x-axis (False Positive Rate - FPR):**\n",
        "    $$\\text{FPR} = \\frac{\\text{False Positives (FP)}}{\\text{FP} + \\text{True Negatives (TN)}}$$\n",
        "  - **y-axis (True Positive Rate - TPR, or Recall):**\n",
        "    $$\\text{TPR} = \\frac{\\text{True Positives (TP)}}{\\text{TP} + \\text{False Negatives (FN)}}$$\n",
        "- **Steps to plot the ROC curve for a logistic regression model:**\n",
        "  1. Use the `predict_proba()` function to get the predicted probabilities for each class. The curve is typically plotted for the positive class.\n",
        "  2. Apply the `roc_curve()` function to compute the FPR and TPR at various thresholds.\n",
        "  3. Calculate the **Area Under the Curve (AUC)** using the `auc()` function, which provides a single score summarizing the model's performance.\n",
        "\n",
        "#### 12. How is the AUC (Area Under the Curve) calculated, and what does it signify about the model's performance?\n",
        "\n",
        "- **AUC (Area Under the Curve):** This measures the total area under the ROC curve, providing an aggregate metric of model performance across all thresholds.\n",
        "- **Interpretation of AUC values:**\n",
        "  - **AUC = 1:** The classifier perfectly distinguishes between positive and negative classes.\n",
        "  - **AUC = 0.5:** The classifier performs no better than random guessing.\n",
        "  - **AUC < 0.5:** The model's predictions are worse than random, which is rare and usually indicates a problem with the model.\n",
        "- **Significance of AUC:** A higher AUC value indicates better classification performance, as it reflects the model's ability to distinguish between classes. Typically, an AUC score of 0.8 or above is considered good.\n",
        "\n",
        "#### 13. How do the training and testing ROC curves compare, and what insights can be derived from this comparison?\n",
        "\n",
        "- **Training ROC Curve:** Represents how well the model performs on the data it was trained on.\n",
        "- **Testing ROC Curve:** Reflects the model's ability to generalize to new, unseen data.\n",
        "- **Insights from comparison:**\n",
        "  - If the training and testing curves are close, the model generalizes well and is not overfitting.\n",
        "  - If the training curve significantly outperforms the testing curve, it may indicate overfitting, where the model memorizes the training data but struggles with new data.\n",
        "  - If both curves are poor, the model could be underfitting, meaning it hasn't captured the patterns in the data well.\n",
        "\n",
        "#### 14. What challenges did you encounter during the preprocessing or model training phases, and how did you address them?\n",
        "\n",
        "- One challenge was identifying the right feature correlations for training. For example, when analyzing multiple \"radius\" columns (e.g., radius_1 to radius_4), it was found that **radius_1** had the strongest correlation with the target variable. This feature was selected for model training to improve performance.\n",
        "\n",
        "#### 15. If the model's performance is not satisfactory, what adjustments could be made to improve it?\n",
        "\n",
        "- To enhance model performance, consider the following adjustments:\n",
        "  - Re-evaluate the dataset by ensuring appropriate data preprocessing and feature selection.\n",
        "  - Split the data into training, validation, and testing sets to fine-tune hyperparameters and assess generalization.\n",
        "  - Experiment with different algorithms or model architectures if applicable.\n",
        "\n",
        "\n",
        "\n",
        "\n",
        "\n",
        "\n",
        "\n"
      ],
      "metadata": {
        "id": "GEP0oc6GXGlt"
      }
    },
    {
      "cell_type": "markdown",
      "source": [
        "#**Programming Procedure**\n",
        "\n",
        "1. Removed \"Sample code number\" column to clean the dataset.  \n",
        "2. Converted \"Class\" values to binary format using mapping functions.  \n",
        "3. Split data into training and testing sets (e.g., 80-20 split), maintaining class proportions using stratification.  \n",
        "4. Trained a logistic regression model to classify tumor status as benign or malignant.  \n",
        "5. Identified important features like `radius1` with high predictive influence.  \n",
        "6. Generated a confusion matrix to visualize prediction outcomes, including true and false classifications.  \n",
        "7. Evaluated model accuracy with precision, recall, F1-score, and false alarm rate metrics.  \n",
        "8. Plotted and analyzed the ROC curve, achieving a high AUC score.  \n",
        "9. Compared training and testing ROC curves to confirm good model generalization.  \n",
        "10. Improved performance by selecting strongly correlated features and tuning the model effectively.  "
      ],
      "metadata": {
        "id": "wf2vn0eesVmJ"
      }
    },
    {
      "cell_type": "markdown",
      "source": [
        "#**Key Insights**\n",
        "\n",
        "1. **Dataset Preprocessing**:  \n",
        "   - Successfully removed unnecessary columns (e.g., \"Sample code number\") to focus on relevant features for analysis.  \n",
        "\n",
        "2. **Binary Conversion**:  \n",
        "   - Transformed the \"Class\" column into binary format, enabling logistic regression to handle classification effectively.  \n",
        "\n",
        "3. **Training and Testing Splits**:  \n",
        "   - Balanced data splitting using stratification ensured consistent class distribution across training and testing sets.  \n",
        "\n",
        "4. **Logistic Regression Performance**:  \n",
        "   - The logistic regression model demonstrated robust performance in classifying benign and malignant tumors.  \n",
        "\n",
        "5. **Feature Importance**:  \n",
        "   - Key features like `radius1`, `texture1`, and `compactness1` were most influential in predicting tumor malignancy.  \n",
        "\n",
        "6. **Confusion Matrix Results**:  \n",
        "   - The matrix highlighted the model's ability to identify true positives and true negatives while exposing false predictions.  \n",
        "\n",
        "7. **Evaluation Metrics**:  \n",
        "   - High precision and recall values indicate accurate classification of malignant and benign cases, with a well-balanced F1-score.  \n",
        "\n",
        "8. **ROC Curve and AUC**:  \n",
        "   - The ROC curve revealed strong separation between positive and negative classes, supported by a high AUC value.  \n",
        "\n",
        "9. **Generalization Insights**:  \n",
        "   - Training and testing ROC curves were closely aligned, indicating minimal overfitting and good generalization.  \n",
        "\n",
        "10. **Challenges Addressed**:  \n",
        "    - Challenges like feature selection and handling imbalanced data were effectively managed, resulting in improved model reliability.  \n"
      ],
      "metadata": {
        "id": "nM80rA_asYDE"
      }
    }
  ]
}